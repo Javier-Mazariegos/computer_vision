{
 "cells": [
  {
   "cell_type": "code",
   "execution_count": null,
   "metadata": {},
   "outputs": [],
   "source": [
    "from sklearn import datasets\n",
    "from sklearn.linear_model import LogisticRegression\n",
    "from sklearn.model_selection import train_test_split\n",
    "from sklearn.metrics import accuracy_score\n",
    "import numpy as np  # Agrega la importación de NumPy\n",
    "import cv2 as cv\n",
    "import cvlib"
   ]
  },
  {
   "cell_type": "markdown",
   "metadata": {},
   "source": [
    "# Nuevo Dataset"
   ]
  },
  {
   "cell_type": "code",
   "execution_count": null,
   "metadata": {},
   "outputs": [],
   "source": [
    "import os\n",
    "import cv2\n",
    "import numpy as np\n",
    "\n",
    "# Directorio raíz que contiene las carpetas con imágenes\n",
    "directorio_raiz = \"./placas/CNN letter Dataset\"  # Reemplaza con la ruta de tu directorio raíz\n",
    "\n",
    "imagenes = []  # Lista para almacenar las imágenes\n",
    "etiquetas = []  # Lista para almacenar las etiquetas\n",
    "\n",
    "# Recorre las carpetas en el directorio raíz\n",
    "for carpeta in os.listdir(directorio_raiz):\n",
    "    carpeta_path = os.path.join(directorio_raiz, carpeta)\n",
    "    \n",
    "    # Verifica si el elemento en el directorio es una carpeta\n",
    "    if os.path.isdir(carpeta_path):\n",
    "        # Recorre las imágenes en la carpeta\n",
    "        for imagen_nombre in os.listdir(carpeta_path):\n",
    "            imagen_path = os.path.join(carpeta_path, imagen_nombre)\n",
    "            \n",
    "            # Utiliza OpenCV para cargar la imagen\n",
    "            imagen = cv2.imread(imagen_path, cv2.IMREAD_GRAYSCALE)  # Convierte la imagen a escala de grises\n",
    "            if imagen is not None:\n",
    "                # Agrega la imagen a la lista de imágenes\n",
    "                # nuevo_tamano = (100, 100)  # Cambia estos valores al tamaño deseado\n",
    "                # imagen_redimensionada = cv2.resize(imagen, nuevo_tamano)\n",
    "                imagenes.append(imagen)\n",
    "                # Agrega el nombre de la carpeta como etiqueta\n",
    "                etiquetas.append(carpeta)\n",
    "\n",
    "# Convierte las listas en matrices NumPy para su uso con bibliotecas de aprendizaje automático\n",
    "imagenes_finales = np.array(imagenes)\n",
    "targets_finales = np.array(etiquetas)\n",
    "\n",
    "# # Aplana las matrices 3D en matrices 2D\n",
    "images2 = imagenes_finales.reshape((len(imagenes_finales), -1))\n",
    "\n",
    "# etiquetas_dict = {}\n",
    "# for idx, carpeta in enumerate(os.listdir(directorio_raiz)):\n",
    "#     etiquetas_dict[carpeta] = idx\n",
    "\n",
    "# # # Mapea los nombres de las carpetas a etiquetas numéricas en la lista 'etiquetas'\n",
    "# targets_2 = np.array([etiquetas_dict[carpeta] for carpeta in etiquetas])\n",
    "\n",
    "# X_train, X_test, y_train, y_test = train_test_split(imagenes, targets_2, test_size=0.2)\n",
    "# model = XGBClassifier()\n",
    "# model.fit(X_train, y_train)\n",
    "# y_pred = model.predict(X_test)\n",
    "# accuracy = accuracy_score(y_test, y_pred)\n",
    "# print(\"Accuracy: %.2f%%\" % (accuracy * 100.0))\n",
    "# from sklearn.metrics import confusion_matrix\n",
    "# confusion = confusion_matrix(y_test, y_pred)\n",
    "# print('Confusion Matrix\\n')\n",
    "# print(confusion)\n"
   ]
  },
  {
   "cell_type": "code",
   "execution_count": null,
   "metadata": {},
   "outputs": [],
   "source": [
    "etiquetas_dict = {}\n",
    "for idx, carpeta in enumerate(os.listdir(directorio_raiz)):\n",
    "    etiquetas_dict[carpeta] = idx\n",
    "\n",
    "# # Mapea los nombres de las carpetas a etiquetas numéricas en la lista 'etiquetas'\n",
    "targets_2 = np.array([etiquetas_dict[carpeta] for carpeta in etiquetas])"
   ]
  },
  {
   "cell_type": "code",
   "execution_count": null,
   "metadata": {},
   "outputs": [],
   "source": [
    "imagenes_finales_2d = imagenes_finales.reshape(imagenes_finales.shape[0], -1)\n",
    "X_train, X_test, y_train, y_test = train_test_split(imagenes_finales_2d, targets_2, test_size=0.2)\n",
    "model = XGBClassifier()\n",
    "model.fit(X_train, y_train)\n",
    "y_pred = model.predict(X_test)\n",
    "accuracy = accuracy_score(y_test, y_pred)\n",
    "print(\"Accuracy: %.2f%%\" % (accuracy * 100.0))\n",
    "from sklearn.metrics import confusion_matrix\n",
    "confusion = confusion_matrix(y_test, y_pred)\n",
    "print('Confusion Matrix\\n')\n",
    "print(confusion)"
   ]
  },
  {
   "cell_type": "code",
   "execution_count": null,
   "metadata": {},
   "outputs": [],
   "source": [
    "from joblib import dump\n",
    "dump(example, 'example.joblib') "
   ]
  },
  {
   "cell_type": "code",
   "execution_count": null,
   "metadata": {},
   "outputs": [],
   "source": [
    "def number2char(num):\n",
    "    if(num == 0):\n",
    "        return 0\n",
    "    elif(num == 1):\n",
    "        return 1\n",
    "    elif(num == 2):\n",
    "        return 2\n",
    "    elif(num == 3):\n",
    "        return 3\n",
    "    elif(num == 4):\n",
    "        return 4\n",
    "    elif(num == 5):\n",
    "        return 5\n",
    "    elif(num == 6):\n",
    "        return 6\n",
    "    elif(num == 7):\n",
    "        return 7\n",
    "    elif(num == 8):\n",
    "        return 8\n",
    "    elif(num == 9):\n",
    "        return 9\n",
    "    elif(num == 10):\n",
    "        return 'A'\n",
    "    elif(num == 11):\n",
    "        return 'B'\n",
    "    elif(num == 12):\n",
    "        return 'C'\n",
    "    elif(num == 13):\n",
    "        return 'D'\n",
    "    elif(num == 14):\n",
    "        return 'E'\n",
    "    elif(num == 15):\n",
    "        return 'F'\n",
    "    elif(num == 16):\n",
    "        return 'G'\n",
    "    elif(num == 17):\n",
    "        return 'H'\n",
    "    elif(num == 18):\n",
    "        return 'I'\n",
    "    elif(num == 19):\n",
    "        return 'J'\n",
    "    elif(num == 20):\n",
    "        return 'K'\n",
    "    elif(num == 21):\n",
    "        return 'L'\n",
    "    elif(num == 22):\n",
    "        return 'M'\n",
    "    elif(num == 23):\n",
    "        return 'N'\n",
    "    elif(num == 24):\n",
    "        return 'P'\n",
    "    elif(num == 25):\n",
    "        return 'Q'\n",
    "    elif(num == 26):\n",
    "        return 'R'\n",
    "    elif(num == 27):\n",
    "        return 'S'\n",
    "    elif(num == 28):\n",
    "        return 'T'\n",
    "    elif(num == 29):\n",
    "        return 'U'\n",
    "    elif(num == 30):\n",
    "        return 'V'\n",
    "    elif(num == 31):\n",
    "        return 'W'\n",
    "    elif(num == 32):\n",
    "        return 'X'\n",
    "    elif(num == 33):\n",
    "        return 'Y'\n",
    "    elif(num == 34):\n",
    "        return 'Z'"
   ]
  },
  {
   "cell_type": "code",
   "execution_count": null,
   "metadata": {},
   "outputs": [],
   "source": [
    "from joblib import load\n",
    "model = load('modelo_final.joblib')"
   ]
  },
  {
   "cell_type": "code",
   "execution_count": null,
   "metadata": {},
   "outputs": [],
   "source": [
    "filename = 'imagen7.png'\n",
    "img = cv.imread(filename,cv.IMREAD_GRAYSCALE) \n",
    "thresh_val = 100\n",
    "print(np.mean(img))\n",
    "if(np.mean(img) > thresh_val):\n",
    "    binarized = cv.adaptiveThreshold(img, 255,cv.ADAPTIVE_THRESH_GAUSSIAN_C, cv.THRESH_BINARY,127,5)\n",
    "else:\n",
    "    binarized = 255 -cv.adaptiveThreshold(img, 255,cv.ADAPTIVE_THRESH_GAUSSIAN_C, cv.THRESH_BINARY,23,-2)\n",
    "# imgbin = cv.adaptiveThreshold(img, 255,cv.ADAPTIVE_THRESH_GAUSSIAN_C, cv.THRESH_BINARY,127,5)\n",
    "nuevo_tamano = (75, 100)  # Cambia estos valores al tamaño deseado\n",
    "imagen_redimensionada = cv.resize(binarized, nuevo_tamano)\n",
    "cvlib.imgview(imagen_redimensionada, axis=True)"
   ]
  },
  {
   "cell_type": "code",
   "execution_count": null,
   "metadata": {},
   "outputs": [],
   "source": [
    "prediccion = model.predict(imagen_redimensionada.reshape(1, -1))\n",
    "\n",
    "# 'prediccion' ahora contiene la etiqueta predicha para la imagen.\n",
    "print(\"Predicción:\", number2char(prediccion[0]))"
   ]
  },
  {
   "cell_type": "markdown",
   "metadata": {},
   "source": [
    "# otra forma"
   ]
  },
  {
   "cell_type": "code",
   "execution_count": 1,
   "metadata": {},
   "outputs": [
    {
     "name": "stderr",
     "output_type": "stream",
     "text": [
      "c:\\Users\\p1jav\\miniforge3\\envs\\ml\\lib\\site-packages\\numpy\\_distributor_init.py:30: UserWarning: loaded more than 1 DLL from .libs:\n",
      "c:\\Users\\p1jav\\miniforge3\\envs\\ml\\lib\\site-packages\\numpy\\.libs\\libopenblas.FB5AE2TYXYH2IJRDKGDGQ3XBKLKTF43H.gfortran-win_amd64.dll\n",
      "c:\\Users\\p1jav\\miniforge3\\envs\\ml\\lib\\site-packages\\numpy\\.libs\\libopenblas64__v0.3.21-gcc_10_3_0.dll\n",
      "  warnings.warn(\"loaded more than 1 DLL from .libs:\"\n"
     ]
    }
   ],
   "source": [
    "import numpy as np\n",
    "import cv2 as cv\n",
    "import pickle\n",
    "import os\n",
    "import cvlib"
   ]
  },
  {
   "cell_type": "code",
   "execution_count": 6,
   "metadata": {},
   "outputs": [],
   "source": [
    "x = []\n",
    "y = []"
   ]
  },
  {
   "cell_type": "code",
   "execution_count": 2,
   "metadata": {},
   "outputs": [],
   "source": [
    "folder = './placas/CNN letter Dataset/'\n",
    "sub_folders = [name for name in os.listdir(folder) if os.path.isdir(os.path.join(folder, name))]"
   ]
  },
  {
   "cell_type": "code",
   "execution_count": 5,
   "metadata": {},
   "outputs": [
    {
     "data": {
      "text/plain": [
       "['0',\n",
       " '1',\n",
       " '2',\n",
       " '3',\n",
       " '4',\n",
       " '5',\n",
       " '6',\n",
       " '7',\n",
       " '8',\n",
       " '9',\n",
       " 'A',\n",
       " 'B',\n",
       " 'C',\n",
       " 'D',\n",
       " 'E',\n",
       " 'F',\n",
       " 'G',\n",
       " 'H',\n",
       " 'I',\n",
       " 'J',\n",
       " 'K',\n",
       " 'L',\n",
       " 'M',\n",
       " 'N',\n",
       " 'P',\n",
       " 'Q',\n",
       " 'R',\n",
       " 'S',\n",
       " 'T',\n",
       " 'U',\n",
       " 'V',\n",
       " 'W',\n",
       " 'X',\n",
       " 'Y',\n",
       " 'Z']"
      ]
     },
     "execution_count": 5,
     "metadata": {},
     "output_type": "execute_result"
    }
   ],
   "source": [
    "sub_folders"
   ]
  },
  {
   "cell_type": "code",
   "execution_count": 8,
   "metadata": {},
   "outputs": [
    {
     "name": "stdout",
     "output_type": "stream",
     "text": [
      "./placas/CNN letter Dataset//1/desktop.ini\n",
      "./placas/CNN letter Dataset//2/desktop.ini\n",
      "./placas/CNN letter Dataset//3/desktop.ini\n",
      "./placas/CNN letter Dataset//4/desktop.ini\n",
      "./placas/CNN letter Dataset//5/desktop.ini\n",
      "./placas/CNN letter Dataset//6/desktop.ini\n",
      "./placas/CNN letter Dataset//7/desktop.ini\n",
      "./placas/CNN letter Dataset//8/desktop.ini\n",
      "./placas/CNN letter Dataset//9/desktop.ini\n",
      "./placas/CNN letter Dataset//A/desktop.ini\n",
      "./placas/CNN letter Dataset//B/desktop.ini\n",
      "./placas/CNN letter Dataset//C/desktop.ini\n",
      "./placas/CNN letter Dataset//D/desktop.ini\n",
      "./placas/CNN letter Dataset//E/desktop.ini\n",
      "./placas/CNN letter Dataset//F/desktop.ini\n",
      "./placas/CNN letter Dataset//G/desktop.ini\n",
      "./placas/CNN letter Dataset//H/desktop.ini\n",
      "./placas/CNN letter Dataset//I/desktop.ini\n",
      "./placas/CNN letter Dataset//J/desktop.ini\n",
      "./placas/CNN letter Dataset//K/desktop.ini\n",
      "./placas/CNN letter Dataset//L/desktop.ini\n",
      "./placas/CNN letter Dataset//M/desktop.ini\n",
      "./placas/CNN letter Dataset//N/desktop.ini\n",
      "./placas/CNN letter Dataset//P/desktop.ini\n",
      "./placas/CNN letter Dataset//Q/desktop.ini\n",
      "./placas/CNN letter Dataset//R/desktop.ini\n",
      "./placas/CNN letter Dataset//S/desktop.ini\n",
      "./placas/CNN letter Dataset//T/desktop.ini\n",
      "./placas/CNN letter Dataset//U/desktop.ini\n",
      "./placas/CNN letter Dataset//V/desktop.ini\n",
      "./placas/CNN letter Dataset//W/desktop.ini\n",
      "./placas/CNN letter Dataset//X/desktop.ini\n",
      "./placas/CNN letter Dataset//Y/desktop.ini\n",
      "./placas/CNN letter Dataset//Z/desktop.ini\n"
     ]
    }
   ],
   "source": [
    "for i in sub_folders:\n",
    "    dir_path = folder + \"/\" + i\n",
    "\n",
    "    for file_path in os.listdir(dir_path):\n",
    "        if os.path.isfile(os.path.join(dir_path, file_path)):\n",
    "            image_path = dir_path + \"/\" + file_path\n",
    "            if(\"desktop\" not in image_path.lower()):\n",
    "                image = cv.imread(image_path,cv.IMREAD_GRAYSCALE)\n",
    "                binarized = cv.adaptiveThreshold(image, 255,cv.ADAPTIVE_THRESH_GAUSSIAN_C, cv.THRESH_BINARY,127,5)\n",
    "                image_2d = binarized.flatten()\n",
    "                x.append(image_2d)\n",
    "                y.append(i)\n",
    "            else:\n",
    "                print(image_path)"
   ]
  },
  {
   "cell_type": "code",
   "execution_count": 9,
   "metadata": {},
   "outputs": [],
   "source": [
    "etiquetas_dict = {}\n",
    "for idx, carpeta in enumerate(os.listdir(folder)):\n",
    "    etiquetas_dict[carpeta] = idx\n",
    "\n",
    "# # Mapea los nombres de las carpetas a etiquetas numéricas en la lista 'etiquetas'\n",
    "targets_2 = np.array([etiquetas_dict[carpeta] for carpeta in y])"
   ]
  },
  {
   "cell_type": "code",
   "execution_count": 10,
   "metadata": {},
   "outputs": [
    {
     "name": "stdout",
     "output_type": "stream",
     "text": [
      "Accuracy: 98.97%\n",
      "Confusion Matrix\n",
      "\n",
      "[[303   0   0 ...   0   0   0]\n",
      " [  0 302   0 ...   0   0   0]\n",
      " [  0   1 304 ...   0   0   0]\n",
      " ...\n",
      " [  0   0   0 ... 298   5   0]\n",
      " [  0   0   0 ...   0 302   0]\n",
      " [  0   0   0 ...   0   0 242]]\n"
     ]
    }
   ],
   "source": [
    "from sklearn.model_selection import train_test_split\n",
    "from sklearn.metrics import accuracy_score\n",
    "import xgboost as xgb\n",
    "X_train, X_test, y_train, y_test = train_test_split(x, targets_2, test_size=0.3, random_state=100, stratify=y)\n",
    "model = xgb.XGBClassifier()\n",
    "model.fit(X_train, y_train)\n",
    "y_pred = model.predict(X_test)\n",
    "accuracy = accuracy_score(y_test, y_pred)\n",
    "print(\"Accuracy: %.2f%%\" % (accuracy * 100.0))\n",
    "from sklearn.metrics import confusion_matrix\n",
    "confusion = confusion_matrix(y_test, y_pred)\n",
    "print('Confusion Matrix\\n')\n",
    "print(confusion)"
   ]
  },
  {
   "cell_type": "code",
   "execution_count": 11,
   "metadata": {},
   "outputs": [
    {
     "data": {
      "text/plain": [
       "['modelo_imagen_procesada.joblib']"
      ]
     },
     "execution_count": 11,
     "metadata": {},
     "output_type": "execute_result"
    }
   ],
   "source": [
    "from joblib import dump\n",
    "dump(model, 'modelo_imagen_procesada.joblib') "
   ]
  }
 ],
 "metadata": {
  "kernelspec": {
   "display_name": "ml",
   "language": "python",
   "name": "python3"
  },
  "language_info": {
   "codemirror_mode": {
    "name": "ipython",
    "version": 3
   },
   "file_extension": ".py",
   "mimetype": "text/x-python",
   "name": "python",
   "nbconvert_exporter": "python",
   "pygments_lexer": "ipython3",
   "version": "3.9.15"
  },
  "orig_nbformat": 4
 },
 "nbformat": 4,
 "nbformat_minor": 2
}
